{
 "cells": [
  {
   "cell_type": "code",
   "execution_count": 1,
   "metadata": {},
   "outputs": [
    {
     "name": "stdout",
     "output_type": "stream",
     "text": [
      "Training Step: 17199  | total loss: \u001b[1m\u001b[32m0.13024\u001b[0m\u001b[0m | time: 6.921s\n",
      "| SGD | epoch: 020 | loss: 0.13024 - top3: 0.9973 -- iter: 54976/55000\n",
      "Training Step: 17200  | total loss: \u001b[1m\u001b[32m0.12672\u001b[0m\u001b[0m | time: 8.075s\n",
      "| SGD | epoch: 020 | loss: 0.12672 - top3: 0.9976 | val_loss: 0.13080 - val_acc: 0.9954 -- iter: 55000/55000\n",
      "--\n"
     ]
    }
   ],
   "source": [
    "# -*- coding: utf-8 -*-\n",
    "\n",
    "\"\"\" Deep Neural Network for MNIST dataset classification task using \n",
    "a highway network\n",
    "References:\n",
    "Links:\n",
    "    [MNIST Dataset] http://yann.lecun.com/exdb/mnist/\n",
    "    [https://arxiv.org/abs/1505.00387](https://arxiv.org/abs/1505.00387)\n",
    "\"\"\"\n",
    "from __future__ import division, print_function, absolute_import\n",
    "\n",
    "import tflearn\n",
    "\n",
    "# Data loading and preprocessing\n",
    "import tflearn.datasets.mnist as mnist\n",
    "X, Y, testX, testY = mnist.load_data(one_hot=True)\n",
    "\n",
    "# Building deep neural network\n",
    "input_layer = tflearn.input_data(shape=[None, 784])\n",
    "dense1 = tflearn.fully_connected(input_layer, 64, activation='elu',\n",
    "                                 regularizer='L2', weight_decay=0.001)\n",
    "                 \n",
    "                 \n",
    "#install a deep network of highway layers\n",
    "highway = dense1                              \n",
    "for i in range(10):\n",
    "    highway = tflearn.highway(highway, 64, activation='elu',\n",
    "                              regularizer='L2', weight_decay=0.001, transform_dropout=0.8)\n",
    "                              \n",
    "                              \n",
    "softmax = tflearn.fully_connected(highway, 10, activation='softmax')\n",
    "\n",
    "# Regression using SGD with learning rate decay and Top-3 accuracy\n",
    "sgd = tflearn.SGD(learning_rate=0.1, lr_decay=0.96, decay_step=1000)\n",
    "top_k = tflearn.metrics.Top_k(3)\n",
    "net = tflearn.regression(softmax, optimizer=sgd, metric=top_k,\n",
    "                         loss='categorical_crossentropy')\n",
    "\n",
    "# Training\n",
    "model = tflearn.DNN(net, tensorboard_verbose=0)\n",
    "model.fit(X, Y, n_epoch=20, validation_set=(testX, testY),\n",
    "          show_metric=True, run_id=\"highway_dense_model\")"
   ]
  },
  {
   "cell_type": "code",
   "execution_count": null,
   "metadata": {},
   "outputs": [],
   "source": []
  }
 ],
 "metadata": {
  "kernelspec": {
   "display_name": "Python 3",
   "language": "python",
   "name": "python3"
  },
  "language_info": {
   "codemirror_mode": {
    "name": "ipython",
    "version": 3
   },
   "file_extension": ".py",
   "mimetype": "text/x-python",
   "name": "python",
   "nbconvert_exporter": "python",
   "pygments_lexer": "ipython3",
   "version": "3.5.5"
  }
 },
 "nbformat": 4,
 "nbformat_minor": 2
}
